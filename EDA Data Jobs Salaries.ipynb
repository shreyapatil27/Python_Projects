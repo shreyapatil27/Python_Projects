{
 "cells": [
  {
   "cell_type": "markdown",
   "id": "e40e46d2",
   "metadata": {},
   "source": [
    "# Global Data Field Jobs 2023 Analysis"
   ]
  },
  {
   "cell_type": "markdown",
   "id": "fb6dcfb1",
   "metadata": {},
   "source": [
    "#### This notebook aims to explore trends and get insights about data related jobs. \n",
    "#### The primary goal is to gain insights that offer improved guidance on global pay trends. This information is valuable for newcomers, experienced professionals, hiring managers, recruiters, and even startup founders or individuals looking to change careers, enabling them to make better-informed decisions.\n",
    "#### The dataset utilized in this analysis was retrieved from the page https://ai-jobs.net/salaries/download/\n"
   ]
  },
  {
   "cell_type": "code",
   "execution_count": 1,
   "id": "d759758d",
   "metadata": {},
   "outputs": [],
   "source": [
    "import numpy as np \n",
    "import pandas as pd \n",
    "import matplotlib.pyplot as plt\n",
    "import seaborn as sns"
   ]
  },
  {
   "cell_type": "code",
   "execution_count": 2,
   "id": "bdb8cf6e",
   "metadata": {},
   "outputs": [],
   "source": [
    "# reading csv file and creating pandas dataframe\n",
    "df=pd.read_csv(\"./DataJobsalaries.csv\")"
   ]
  },
  {
   "cell_type": "markdown",
   "id": "34a5a695",
   "metadata": {},
   "source": [
    "### Data Dictionary\n",
    "work_year: The year the salary was paid; \n",
    "\n",
    "experience_level: The experience level in the job during the year;\n",
    "\n",
    "employment_type: The type of employement for the role;\n",
    "\n",
    "job_title: The role worked in during the year;\n",
    "\n",
    "salary: The total gross salary amount paid;\n",
    "\n",
    "salary_currency: The currency of the salary paid;\n",
    "\n",
    "salary_in_usd: The salary in USD;\n",
    "\n",
    "employee_residence: Employee's primary country of residence in during the work year;\n",
    "\n",
    "remote_ratio: The overall amount of work done remotely;\n",
    "\n",
    "company_location: The country of the employer's main office or contracting branch;\n",
    "\n",
    "company_size: The average number of people that worked for the company during the year."
   ]
  },
  {
   "cell_type": "markdown",
   "id": "b455d43b",
   "metadata": {},
   "source": [
    "### Exploring Data Frame"
   ]
  },
  {
   "cell_type": "code",
   "execution_count": 3,
   "id": "b77a1204",
   "metadata": {},
   "outputs": [
    {
     "data": {
      "text/html": [
       "<div>\n",
       "<style scoped>\n",
       "    .dataframe tbody tr th:only-of-type {\n",
       "        vertical-align: middle;\n",
       "    }\n",
       "\n",
       "    .dataframe tbody tr th {\n",
       "        vertical-align: top;\n",
       "    }\n",
       "\n",
       "    .dataframe thead th {\n",
       "        text-align: right;\n",
       "    }\n",
       "</style>\n",
       "<table border=\"1\" class=\"dataframe\">\n",
       "  <thead>\n",
       "    <tr style=\"text-align: right;\">\n",
       "      <th></th>\n",
       "      <th>work_year</th>\n",
       "      <th>experience_level</th>\n",
       "      <th>employment_type</th>\n",
       "      <th>job_title</th>\n",
       "      <th>salary</th>\n",
       "      <th>salary_currency</th>\n",
       "      <th>salary_in_usd</th>\n",
       "      <th>employee_residence</th>\n",
       "      <th>remote_ratio</th>\n",
       "      <th>company_location</th>\n",
       "      <th>company_size</th>\n",
       "    </tr>\n",
       "  </thead>\n",
       "  <tbody>\n",
       "    <tr>\n",
       "      <th>0</th>\n",
       "      <td>2023</td>\n",
       "      <td>MI</td>\n",
       "      <td>CT</td>\n",
       "      <td>AI Engineer</td>\n",
       "      <td>50000</td>\n",
       "      <td>USD</td>\n",
       "      <td>50000</td>\n",
       "      <td>CZ</td>\n",
       "      <td>100</td>\n",
       "      <td>CA</td>\n",
       "      <td>L</td>\n",
       "    </tr>\n",
       "    <tr>\n",
       "      <th>1</th>\n",
       "      <td>2023</td>\n",
       "      <td>MI</td>\n",
       "      <td>FT</td>\n",
       "      <td>Data Scientist</td>\n",
       "      <td>60000</td>\n",
       "      <td>EUR</td>\n",
       "      <td>64781</td>\n",
       "      <td>ES</td>\n",
       "      <td>100</td>\n",
       "      <td>ES</td>\n",
       "      <td>L</td>\n",
       "    </tr>\n",
       "    <tr>\n",
       "      <th>2</th>\n",
       "      <td>2023</td>\n",
       "      <td>EN</td>\n",
       "      <td>FT</td>\n",
       "      <td>Data Scientist</td>\n",
       "      <td>53000</td>\n",
       "      <td>EUR</td>\n",
       "      <td>57223</td>\n",
       "      <td>NL</td>\n",
       "      <td>50</td>\n",
       "      <td>NL</td>\n",
       "      <td>L</td>\n",
       "    </tr>\n",
       "    <tr>\n",
       "      <th>3</th>\n",
       "      <td>2023</td>\n",
       "      <td>MI</td>\n",
       "      <td>FL</td>\n",
       "      <td>Data Science Consultant</td>\n",
       "      <td>21000</td>\n",
       "      <td>USD</td>\n",
       "      <td>21000</td>\n",
       "      <td>PK</td>\n",
       "      <td>100</td>\n",
       "      <td>LU</td>\n",
       "      <td>S</td>\n",
       "    </tr>\n",
       "    <tr>\n",
       "      <th>4</th>\n",
       "      <td>2023</td>\n",
       "      <td>MI</td>\n",
       "      <td>FT</td>\n",
       "      <td>Data Analyst</td>\n",
       "      <td>135000</td>\n",
       "      <td>USD</td>\n",
       "      <td>135000</td>\n",
       "      <td>US</td>\n",
       "      <td>0</td>\n",
       "      <td>US</td>\n",
       "      <td>M</td>\n",
       "    </tr>\n",
       "  </tbody>\n",
       "</table>\n",
       "</div>"
      ],
      "text/plain": [
       "   work_year experience_level employment_type                job_title  \\\n",
       "0       2023               MI              CT              AI Engineer   \n",
       "1       2023               MI              FT           Data Scientist   \n",
       "2       2023               EN              FT           Data Scientist   \n",
       "3       2023               MI              FL  Data Science Consultant   \n",
       "4       2023               MI              FT             Data Analyst   \n",
       "\n",
       "   salary salary_currency  salary_in_usd employee_residence  remote_ratio  \\\n",
       "0   50000             USD          50000                 CZ           100   \n",
       "1   60000             EUR          64781                 ES           100   \n",
       "2   53000             EUR          57223                 NL            50   \n",
       "3   21000             USD          21000                 PK           100   \n",
       "4  135000             USD         135000                 US             0   \n",
       "\n",
       "  company_location company_size  \n",
       "0               CA            L  \n",
       "1               ES            L  \n",
       "2               NL            L  \n",
       "3               LU            S  \n",
       "4               US            M  "
      ]
     },
     "execution_count": 3,
     "metadata": {},
     "output_type": "execute_result"
    }
   ],
   "source": [
    "# getting first 5 rows of data\n",
    "df.head()"
   ]
  },
  {
   "cell_type": "code",
   "execution_count": 4,
   "id": "d84cf6b4",
   "metadata": {},
   "outputs": [
    {
     "data": {
      "text/html": [
       "<div>\n",
       "<style scoped>\n",
       "    .dataframe tbody tr th:only-of-type {\n",
       "        vertical-align: middle;\n",
       "    }\n",
       "\n",
       "    .dataframe tbody tr th {\n",
       "        vertical-align: top;\n",
       "    }\n",
       "\n",
       "    .dataframe thead th {\n",
       "        text-align: right;\n",
       "    }\n",
       "</style>\n",
       "<table border=\"1\" class=\"dataframe\">\n",
       "  <thead>\n",
       "    <tr style=\"text-align: right;\">\n",
       "      <th></th>\n",
       "      <th>work_year</th>\n",
       "      <th>experience_level</th>\n",
       "      <th>employment_type</th>\n",
       "      <th>job_title</th>\n",
       "      <th>salary</th>\n",
       "      <th>salary_currency</th>\n",
       "      <th>salary_in_usd</th>\n",
       "      <th>employee_residence</th>\n",
       "      <th>remote_ratio</th>\n",
       "      <th>company_location</th>\n",
       "      <th>company_size</th>\n",
       "    </tr>\n",
       "  </thead>\n",
       "  <tbody>\n",
       "    <tr>\n",
       "      <th>8811</th>\n",
       "      <td>2020</td>\n",
       "      <td>SE</td>\n",
       "      <td>FT</td>\n",
       "      <td>Data Scientist</td>\n",
       "      <td>412000</td>\n",
       "      <td>USD</td>\n",
       "      <td>412000</td>\n",
       "      <td>US</td>\n",
       "      <td>100</td>\n",
       "      <td>US</td>\n",
       "      <td>L</td>\n",
       "    </tr>\n",
       "    <tr>\n",
       "      <th>8812</th>\n",
       "      <td>2021</td>\n",
       "      <td>MI</td>\n",
       "      <td>FT</td>\n",
       "      <td>Principal Data Scientist</td>\n",
       "      <td>151000</td>\n",
       "      <td>USD</td>\n",
       "      <td>151000</td>\n",
       "      <td>US</td>\n",
       "      <td>100</td>\n",
       "      <td>US</td>\n",
       "      <td>L</td>\n",
       "    </tr>\n",
       "    <tr>\n",
       "      <th>8813</th>\n",
       "      <td>2020</td>\n",
       "      <td>EN</td>\n",
       "      <td>FT</td>\n",
       "      <td>Data Scientist</td>\n",
       "      <td>105000</td>\n",
       "      <td>USD</td>\n",
       "      <td>105000</td>\n",
       "      <td>US</td>\n",
       "      <td>100</td>\n",
       "      <td>US</td>\n",
       "      <td>S</td>\n",
       "    </tr>\n",
       "    <tr>\n",
       "      <th>8814</th>\n",
       "      <td>2020</td>\n",
       "      <td>EN</td>\n",
       "      <td>CT</td>\n",
       "      <td>Business Data Analyst</td>\n",
       "      <td>100000</td>\n",
       "      <td>USD</td>\n",
       "      <td>100000</td>\n",
       "      <td>US</td>\n",
       "      <td>100</td>\n",
       "      <td>US</td>\n",
       "      <td>L</td>\n",
       "    </tr>\n",
       "    <tr>\n",
       "      <th>8815</th>\n",
       "      <td>2021</td>\n",
       "      <td>SE</td>\n",
       "      <td>FT</td>\n",
       "      <td>Data Science Manager</td>\n",
       "      <td>7000000</td>\n",
       "      <td>INR</td>\n",
       "      <td>94665</td>\n",
       "      <td>IN</td>\n",
       "      <td>50</td>\n",
       "      <td>IN</td>\n",
       "      <td>L</td>\n",
       "    </tr>\n",
       "  </tbody>\n",
       "</table>\n",
       "</div>"
      ],
      "text/plain": [
       "      work_year experience_level employment_type                 job_title  \\\n",
       "8811       2020               SE              FT            Data Scientist   \n",
       "8812       2021               MI              FT  Principal Data Scientist   \n",
       "8813       2020               EN              FT            Data Scientist   \n",
       "8814       2020               EN              CT     Business Data Analyst   \n",
       "8815       2021               SE              FT      Data Science Manager   \n",
       "\n",
       "       salary salary_currency  salary_in_usd employee_residence  remote_ratio  \\\n",
       "8811   412000             USD         412000                 US           100   \n",
       "8812   151000             USD         151000                 US           100   \n",
       "8813   105000             USD         105000                 US           100   \n",
       "8814   100000             USD         100000                 US           100   \n",
       "8815  7000000             INR          94665                 IN            50   \n",
       "\n",
       "     company_location company_size  \n",
       "8811               US            L  \n",
       "8812               US            L  \n",
       "8813               US            S  \n",
       "8814               US            L  \n",
       "8815               IN            L  "
      ]
     },
     "execution_count": 4,
     "metadata": {},
     "output_type": "execute_result"
    }
   ],
   "source": [
    "# getting last 5 rows of data\n",
    "df.tail()"
   ]
  },
  {
   "cell_type": "code",
   "execution_count": 5,
   "id": "f50f5912",
   "metadata": {},
   "outputs": [
    {
     "name": "stdout",
     "output_type": "stream",
     "text": [
      "<class 'pandas.core.frame.DataFrame'>\n",
      "RangeIndex: 8816 entries, 0 to 8815\n",
      "Data columns (total 11 columns):\n",
      " #   Column              Non-Null Count  Dtype \n",
      "---  ------              --------------  ----- \n",
      " 0   work_year           8816 non-null   int64 \n",
      " 1   experience_level    8816 non-null   object\n",
      " 2   employment_type     8816 non-null   object\n",
      " 3   job_title           8816 non-null   object\n",
      " 4   salary              8816 non-null   int64 \n",
      " 5   salary_currency     8816 non-null   object\n",
      " 6   salary_in_usd       8816 non-null   int64 \n",
      " 7   employee_residence  8816 non-null   object\n",
      " 8   remote_ratio        8816 non-null   int64 \n",
      " 9   company_location    8816 non-null   object\n",
      " 10  company_size        8816 non-null   object\n",
      "dtypes: int64(4), object(7)\n",
      "memory usage: 757.8+ KB\n"
     ]
    }
   ],
   "source": [
    "# getting information about the data frame\n",
    "df.info()"
   ]
  },
  {
   "cell_type": "code",
   "execution_count": 6,
   "id": "fea99072",
   "metadata": {},
   "outputs": [
    {
     "data": {
      "text/html": [
       "<div>\n",
       "<style scoped>\n",
       "    .dataframe tbody tr th:only-of-type {\n",
       "        vertical-align: middle;\n",
       "    }\n",
       "\n",
       "    .dataframe tbody tr th {\n",
       "        vertical-align: top;\n",
       "    }\n",
       "\n",
       "    .dataframe thead th {\n",
       "        text-align: right;\n",
       "    }\n",
       "</style>\n",
       "<table border=\"1\" class=\"dataframe\">\n",
       "  <thead>\n",
       "    <tr style=\"text-align: right;\">\n",
       "      <th></th>\n",
       "      <th>count</th>\n",
       "      <th>mean</th>\n",
       "      <th>std</th>\n",
       "      <th>min</th>\n",
       "      <th>25%</th>\n",
       "      <th>50%</th>\n",
       "      <th>75%</th>\n",
       "      <th>max</th>\n",
       "    </tr>\n",
       "  </thead>\n",
       "  <tbody>\n",
       "    <tr>\n",
       "      <th>work_year</th>\n",
       "      <td>8816.0</td>\n",
       "      <td>2022.737750</td>\n",
       "      <td>0.542225</td>\n",
       "      <td>2020.0</td>\n",
       "      <td>2023.0</td>\n",
       "      <td>2023.0</td>\n",
       "      <td>2023.0</td>\n",
       "      <td>2023.0</td>\n",
       "    </tr>\n",
       "    <tr>\n",
       "      <th>salary</th>\n",
       "      <td>8816.0</td>\n",
       "      <td>174630.242400</td>\n",
       "      <td>455781.808241</td>\n",
       "      <td>14000.0</td>\n",
       "      <td>105500.0</td>\n",
       "      <td>144100.0</td>\n",
       "      <td>190000.0</td>\n",
       "      <td>30400000.0</td>\n",
       "    </tr>\n",
       "    <tr>\n",
       "      <th>salary_in_usd</th>\n",
       "      <td>8816.0</td>\n",
       "      <td>149409.253857</td>\n",
       "      <td>64046.556033</td>\n",
       "      <td>15000.0</td>\n",
       "      <td>105000.0</td>\n",
       "      <td>142200.0</td>\n",
       "      <td>185900.0</td>\n",
       "      <td>450000.0</td>\n",
       "    </tr>\n",
       "    <tr>\n",
       "      <th>remote_ratio</th>\n",
       "      <td>8816.0</td>\n",
       "      <td>38.719374</td>\n",
       "      <td>48.071890</td>\n",
       "      <td>0.0</td>\n",
       "      <td>0.0</td>\n",
       "      <td>0.0</td>\n",
       "      <td>100.0</td>\n",
       "      <td>100.0</td>\n",
       "    </tr>\n",
       "  </tbody>\n",
       "</table>\n",
       "</div>"
      ],
      "text/plain": [
       "                count           mean            std      min       25%  \\\n",
       "work_year      8816.0    2022.737750       0.542225   2020.0    2023.0   \n",
       "salary         8816.0  174630.242400  455781.808241  14000.0  105500.0   \n",
       "salary_in_usd  8816.0  149409.253857   64046.556033  15000.0  105000.0   \n",
       "remote_ratio   8816.0      38.719374      48.071890      0.0       0.0   \n",
       "\n",
       "                    50%       75%         max  \n",
       "work_year        2023.0    2023.0      2023.0  \n",
       "salary         144100.0  190000.0  30400000.0  \n",
       "salary_in_usd  142200.0  185900.0    450000.0  \n",
       "remote_ratio        0.0     100.0       100.0  "
      ]
     },
     "execution_count": 6,
     "metadata": {},
     "output_type": "execute_result"
    }
   ],
   "source": [
    "# getting the summary of numerical columns\n",
    "df.describe().transpose()"
   ]
  },
  {
   "cell_type": "markdown",
   "id": "80135bfe",
   "metadata": {},
   "source": [
    "### Data Cleaning\n",
    "\n",
    "Checking the shape of our dataset."
   ]
  },
  {
   "cell_type": "code",
   "execution_count": 7,
   "id": "f16cd15e",
   "metadata": {},
   "outputs": [
    {
     "data": {
      "text/plain": [
       "(8816, 11)"
      ]
     },
     "execution_count": 7,
     "metadata": {},
     "output_type": "execute_result"
    }
   ],
   "source": [
    "df.shape"
   ]
  },
  {
   "cell_type": "markdown",
   "id": "2e3e71a8",
   "metadata": {},
   "source": [
    "Checking for any missing or null values"
   ]
  },
  {
   "cell_type": "code",
   "execution_count": 8,
   "id": "3a6905aa",
   "metadata": {},
   "outputs": [
    {
     "data": {
      "text/plain": [
       "work_year             0\n",
       "experience_level      0\n",
       "employment_type       0\n",
       "job_title             0\n",
       "salary                0\n",
       "salary_currency       0\n",
       "salary_in_usd         0\n",
       "employee_residence    0\n",
       "remote_ratio          0\n",
       "company_location      0\n",
       "company_size          0\n",
       "dtype: int64"
      ]
     },
     "execution_count": 8,
     "metadata": {},
     "output_type": "execute_result"
    }
   ],
   "source": [
    "df.isna().sum()"
   ]
  },
  {
   "cell_type": "code",
   "execution_count": 9,
   "id": "0a8fbcb0",
   "metadata": {},
   "outputs": [
    {
     "name": "stdout",
     "output_type": "stream",
     "text": [
      "<class 'pandas.core.frame.DataFrame'>\n",
      "RangeIndex: 8816 entries, 0 to 8815\n",
      "Data columns (total 10 columns):\n",
      " #   Column              Non-Null Count  Dtype \n",
      "---  ------              --------------  ----- \n",
      " 0   work_year           8816 non-null   int64 \n",
      " 1   experience_level    8816 non-null   object\n",
      " 2   employment_type     8816 non-null   object\n",
      " 3   job_title           8816 non-null   object\n",
      " 4   salary_currency     8816 non-null   object\n",
      " 5   salary_in_usd       8816 non-null   int64 \n",
      " 6   employee_residence  8816 non-null   object\n",
      " 7   remote_ratio        8816 non-null   int64 \n",
      " 8   company_location    8816 non-null   object\n",
      " 9   company_size        8816 non-null   object\n",
      "dtypes: int64(3), object(7)\n",
      "memory usage: 688.9+ KB\n"
     ]
    }
   ],
   "source": [
    "df.drop('salary',axis=1,inplace=True)\n",
    "df.info()"
   ]
  },
  {
   "cell_type": "markdown",
   "id": "ba15ca06",
   "metadata": {},
   "source": [
    "checking for duplicate values"
   ]
  },
  {
   "cell_type": "code",
   "execution_count": 10,
   "id": "2c7cd878",
   "metadata": {},
   "outputs": [
    {
     "data": {
      "text/plain": [
       "3681"
      ]
     },
     "execution_count": 10,
     "metadata": {},
     "output_type": "execute_result"
    }
   ],
   "source": [
    "df.duplicated().sum()"
   ]
  },
  {
   "cell_type": "markdown",
   "id": "195987bc",
   "metadata": {},
   "source": [
    "Considering that we have a lot of duplicate values, let us remove the duplicates to get clean data and ensure good data quality"
   ]
  },
  {
   "cell_type": "code",
   "execution_count": 11,
   "id": "a74a6e58",
   "metadata": {},
   "outputs": [],
   "source": [
    "df.drop_duplicates(inplace=True)"
   ]
  },
  {
   "cell_type": "markdown",
   "id": "0d30c9cd",
   "metadata": {},
   "source": [
    "Checking the dataset shape again"
   ]
  },
  {
   "cell_type": "code",
   "execution_count": 12,
   "id": "0b50d77c",
   "metadata": {},
   "outputs": [
    {
     "data": {
      "text/plain": [
       "(5135, 10)"
      ]
     },
     "execution_count": 12,
     "metadata": {},
     "output_type": "execute_result"
    }
   ],
   "source": [
    "df.shape"
   ]
  },
  {
   "cell_type": "markdown",
   "id": "5a1af37a",
   "metadata": {},
   "source": [
    "### Data Analysis"
   ]
  },
  {
   "cell_type": "markdown",
   "id": "0c42b994",
   "metadata": {},
   "source": [
    "Distribution of Work Year"
   ]
  },
  {
   "cell_type": "code",
   "execution_count": 13,
   "id": "0a1b5a44",
   "metadata": {},
   "outputs": [
    {
     "data": {
      "text/html": [
       "<div>\n",
       "<style scoped>\n",
       "    .dataframe tbody tr th:only-of-type {\n",
       "        vertical-align: middle;\n",
       "    }\n",
       "\n",
       "    .dataframe tbody tr th {\n",
       "        vertical-align: top;\n",
       "    }\n",
       "\n",
       "    .dataframe thead th {\n",
       "        text-align: right;\n",
       "    }\n",
       "</style>\n",
       "<table border=\"1\" class=\"dataframe\">\n",
       "  <thead>\n",
       "    <tr style=\"text-align: right;\">\n",
       "      <th></th>\n",
       "      <th>Job Title</th>\n",
       "      <th>Percentage</th>\n",
       "    </tr>\n",
       "  </thead>\n",
       "  <tbody>\n",
       "    <tr>\n",
       "      <th>0</th>\n",
       "      <td>2023</td>\n",
       "      <td>72.677702</td>\n",
       "    </tr>\n",
       "    <tr>\n",
       "      <th>1</th>\n",
       "      <td>2022</td>\n",
       "      <td>21.655307</td>\n",
       "    </tr>\n",
       "    <tr>\n",
       "      <th>2</th>\n",
       "      <td>2021</td>\n",
       "      <td>4.206426</td>\n",
       "    </tr>\n",
       "    <tr>\n",
       "      <th>3</th>\n",
       "      <td>2020</td>\n",
       "      <td>1.460565</td>\n",
       "    </tr>\n",
       "  </tbody>\n",
       "</table>\n",
       "</div>"
      ],
      "text/plain": [
       "   Job Title  Percentage\n",
       "0       2023   72.677702\n",
       "1       2022   21.655307\n",
       "2       2021    4.206426\n",
       "3       2020    1.460565"
      ]
     },
     "execution_count": 13,
     "metadata": {},
     "output_type": "execute_result"
    }
   ],
   "source": [
    "work_year_chart = df.work_year.value_counts(normalize=True).head(10) * 100\n",
    "pd.DataFrame({'Job Title': work_year_chart.index, 'Percentage': work_year_chart.values})"
   ]
  },
  {
   "cell_type": "code",
   "execution_count": 14,
   "id": "cecf037c",
   "metadata": {
    "scrolled": true
   },
   "outputs": [
    {
     "data": {
      "image/png": "[encoded data removed]",
      "text/plain": [
       "<Figure size 640x480 with 1 Axes>"
      ]
     },
     "metadata": {},
     "output_type": "display_data"
    }
   ],
   "source": [
    "work_year_chart.sort_index().plot(kind='bar')\n",
    "plt.title('Work Year Distribution')\n",
    "plt.xlabel('Years')\n",
    "plt.ylabel('Percentage')\n",
    "plt.xticks(rotation=0)\n",
    "plt.show()"
   ]
  },
  {
   "cell_type": "markdown",
   "id": "422666b2",
   "metadata": {},
   "source": [
    "Identifying popular Jobs in 2023"
   ]
  },
  {
   "cell_type": "code",
   "execution_count": 15,
   "id": "a9f8e958",
   "metadata": {},
   "outputs": [
    {
     "data": {
      "text/plain": [
       "123"
      ]
     },
     "execution_count": 15,
     "metadata": {},
     "output_type": "execute_result"
    }
   ],
   "source": [
    "len(df.job_title.value_counts())"
   ]
  },
  {
   "cell_type": "code",
   "execution_count": 16,
   "id": "5d866403",
   "metadata": {},
   "outputs": [
    {
     "data": {
      "text/html": [
       "<div>\n",
       "<style scoped>\n",
       "    .dataframe tbody tr th:only-of-type {\n",
       "        vertical-align: middle;\n",
       "    }\n",
       "\n",
       "    .dataframe tbody tr th {\n",
       "        vertical-align: top;\n",
       "    }\n",
       "\n",
       "    .dataframe thead th {\n",
       "        text-align: right;\n",
       "    }\n",
       "</style>\n",
       "<table border=\"1\" class=\"dataframe\">\n",
       "  <thead>\n",
       "    <tr style=\"text-align: right;\">\n",
       "      <th></th>\n",
       "      <th>Job Title</th>\n",
       "      <th>Percentage</th>\n",
       "    </tr>\n",
       "  </thead>\n",
       "  <tbody>\n",
       "    <tr>\n",
       "      <th>0</th>\n",
       "      <td>Data Engineer</td>\n",
       "      <td>19.426581</td>\n",
       "    </tr>\n",
       "    <tr>\n",
       "      <th>1</th>\n",
       "      <td>Data Scientist</td>\n",
       "      <td>18.354770</td>\n",
       "    </tr>\n",
       "    <tr>\n",
       "      <th>2</th>\n",
       "      <td>Data Analyst</td>\n",
       "      <td>14.013934</td>\n",
       "    </tr>\n",
       "    <tr>\n",
       "      <th>3</th>\n",
       "      <td>Machine Learning Engineer</td>\n",
       "      <td>10.450161</td>\n",
       "    </tr>\n",
       "    <tr>\n",
       "      <th>4</th>\n",
       "      <td>Analytics Engineer</td>\n",
       "      <td>3.992497</td>\n",
       "    </tr>\n",
       "    <tr>\n",
       "      <th>5</th>\n",
       "      <td>Research Scientist</td>\n",
       "      <td>3.242229</td>\n",
       "    </tr>\n",
       "    <tr>\n",
       "      <th>6</th>\n",
       "      <td>Data Architect</td>\n",
       "      <td>2.518757</td>\n",
       "    </tr>\n",
       "    <tr>\n",
       "      <th>7</th>\n",
       "      <td>Research Engineer</td>\n",
       "      <td>2.197213</td>\n",
       "    </tr>\n",
       "    <tr>\n",
       "      <th>8</th>\n",
       "      <td>ML Engineer</td>\n",
       "      <td>1.902465</td>\n",
       "    </tr>\n",
       "    <tr>\n",
       "      <th>9</th>\n",
       "      <td>Applied Scientist</td>\n",
       "      <td>1.848875</td>\n",
       "    </tr>\n",
       "  </tbody>\n",
       "</table>\n",
       "</div>"
      ],
      "text/plain": [
       "                   Job Title  Percentage\n",
       "0              Data Engineer   19.426581\n",
       "1             Data Scientist   18.354770\n",
       "2               Data Analyst   14.013934\n",
       "3  Machine Learning Engineer   10.450161\n",
       "4         Analytics Engineer    3.992497\n",
       "5         Research Scientist    3.242229\n",
       "6             Data Architect    2.518757\n",
       "7          Research Engineer    2.197213\n",
       "8                ML Engineer    1.902465\n",
       "9          Applied Scientist    1.848875"
      ]
     },
     "execution_count": 16,
     "metadata": {},
     "output_type": "execute_result"
    }
   ],
   "source": [
    "Job_Title_chart = df[df.work_year == 2023].job_title.value_counts(normalize=True).head(10) * 100\n",
    "pd.DataFrame({'Job Title': Job_Title_chart.index, 'Percentage': Job_Title_chart.values})"
   ]
  },
  {
   "cell_type": "markdown",
   "id": "48beeadf",
   "metadata": {},
   "source": [
    "As per the dataset, three most popular data-related jobs are as follows:\n",
    "\n",
    "Data Engineer (19.43%)\n",
    "\n",
    "Data Scientist (18.35%)\n",
    "\n",
    "Data Analyst (14%)"
   ]
  },
  {
   "cell_type": "code",
   "execution_count": 17,
   "id": "2bfd2dc3",
   "metadata": {},
   "outputs": [
    {
     "name": "stdout",
     "output_type": "stream",
     "text": [
      "                        Job Title  Percentage\n",
      "0                   Data Engineer   19.426581\n",
      "1                  Data Scientist   18.354770\n",
      "2                    Data Analyst   14.013934\n",
      "3                     ML Engineer   12.352626\n",
      "4              Analytics Engineer    3.992497\n",
      "5              Research Scientist    3.242229\n",
      "6                  Data Architect    2.518757\n",
      "7               Research Engineer    2.197213\n",
      "8               Applied Scientist    1.848875\n",
      "9  Business Intelligence Engineer    1.312969\n"
     ]
    },
    {
     "data": {
      "image/png": "[encoded data removed]",
      "text/plain": [
       "<Figure size 640x480 with 1 Axes>"
      ]
     },
     "metadata": {},
     "output_type": "display_data"
    }
   ],
   "source": [
    "df.replace('Machine Learning Engineer','ML Engineer',inplace=True)\n",
    "Job_Title_chart = df[df.work_year == 2023].job_title.value_counts(normalize=True).head(10) * 100\n",
    "print(pd.DataFrame({'Job Title': Job_Title_chart.index, 'Percentage': Job_Title_chart.values}))\n",
    "Job_Title_chart.sort_values(ascending=True).plot(kind='barh')\n",
    "plt.title('Top 10 Most Popular Data Related Job Titles at 2023')\n",
    "plt.xlabel('Percentage')\n",
    "plt.ylabel(None)\n",
    "plt.show()"
   ]
  },
  {
   "cell_type": "markdown",
   "id": "f1660cb9",
   "metadata": {},
   "source": [
    "Analyzing Experience Level\n",
    "\n",
    "EN: Entry-level / Junior\n",
    "\n",
    "MI: Mid-level / Intermediate\n",
    "\n",
    "SE: Senior-level / Expert\n",
    "\n",
    "EX: Executive-level / Director"
   ]
  },
  {
   "cell_type": "code",
   "execution_count": 18,
   "id": "bed5d8c0",
   "metadata": {},
   "outputs": [
    {
     "name": "stdout",
     "output_type": "stream",
     "text": [
      "  Experience Level  Percentage\n",
      "0               SE   64.518014\n",
      "1               MI   23.894839\n",
      "2               EN    7.439143\n",
      "3               EX    4.148004\n"
     ]
    },
    {
     "data": {
      "image/png": "[encoded data removed]",
      "text/plain": [
       "<Figure size 640x480 with 1 Axes>"
      ]
     },
     "metadata": {},
     "output_type": "display_data"
    }
   ],
   "source": [
    "Experience_level_data = df.experience_level.value_counts(normalize=True) * 100\n",
    "print(pd.DataFrame({'Experience Level': Experience_level_data.index, 'Percentage': Experience_level_data.values}))\n",
    "Experience_level_data.sort_values(ascending=True).plot(kind='bar')\n",
    "plt.title('Experience Level')\n",
    "plt.xlabel(None)\n",
    "plt.ylabel('Percentage')\n",
    "plt.show()"
   ]
  },
  {
   "cell_type": "markdown",
   "id": "8d3eb71d",
   "metadata": {},
   "source": [
    "About Employment Type\n",
    "\n",
    "FT: Full-Time\n",
    "\n",
    "CT: Contract\n",
    "\n",
    "PT: Part-Time\n",
    "\n",
    "FL: Freelance"
   ]
  },
  {
   "cell_type": "code",
   "execution_count": 19,
   "id": "bd86324e",
   "metadata": {},
   "outputs": [
    {
     "data": {
      "text/html": [
       "<div>\n",
       "<style scoped>\n",
       "    .dataframe tbody tr th:only-of-type {\n",
       "        vertical-align: middle;\n",
       "    }\n",
       "\n",
       "    .dataframe tbody tr th {\n",
       "        vertical-align: top;\n",
       "    }\n",
       "\n",
       "    .dataframe thead th {\n",
       "        text-align: right;\n",
       "    }\n",
       "</style>\n",
       "<table border=\"1\" class=\"dataframe\">\n",
       "  <thead>\n",
       "    <tr style=\"text-align: right;\">\n",
       "      <th></th>\n",
       "      <th>Type</th>\n",
       "      <th>Percentage</th>\n",
       "    </tr>\n",
       "  </thead>\n",
       "  <tbody>\n",
       "    <tr>\n",
       "      <th>0</th>\n",
       "      <td>FT</td>\n",
       "      <td>99.143135</td>\n",
       "    </tr>\n",
       "    <tr>\n",
       "      <th>1</th>\n",
       "      <td>CT</td>\n",
       "      <td>0.370010</td>\n",
       "    </tr>\n",
       "    <tr>\n",
       "      <th>2</th>\n",
       "      <td>PT</td>\n",
       "      <td>0.253165</td>\n",
       "    </tr>\n",
       "    <tr>\n",
       "      <th>3</th>\n",
       "      <td>FL</td>\n",
       "      <td>0.233690</td>\n",
       "    </tr>\n",
       "  </tbody>\n",
       "</table>\n",
       "</div>"
      ],
      "text/plain": [
       "  Type  Percentage\n",
       "0   FT   99.143135\n",
       "1   CT    0.370010\n",
       "2   PT    0.253165\n",
       "3   FL    0.233690"
      ]
     },
     "execution_count": 19,
     "metadata": {},
     "output_type": "execute_result"
    }
   ],
   "source": [
    "emp_type_data = df.employment_type.value_counts(normalize=True) * 100\n",
    "pd.DataFrame({'Type': emp_type_data.index, 'Percentage': emp_type_data.values })"
   ]
  },
  {
   "cell_type": "markdown",
   "id": "064b5e42",
   "metadata": {},
   "source": [
    "About Work Model\n",
    "\n",
    "0: No remote work (less than 20%)\n",
    "\n",
    "50: Partially remote/hybrid\n",
    "\n",
    "100: Fully remote (more than 80%)"
   ]
  },
  {
   "cell_type": "code",
   "execution_count": 20,
   "id": "75068ce6",
   "metadata": {},
   "outputs": [
    {
     "name": "stdout",
     "output_type": "stream",
     "text": [
      "   Type  Percentage\n",
      "0     0   53.339825\n",
      "1   100   42.434275\n",
      "2    50    4.225901\n"
     ]
    },
    {
     "data": {
      "image/png": "[encoded data removed]",
      "text/plain": [
       "<Figure size 640x480 with 1 Axes>"
      ]
     },
     "metadata": {},
     "output_type": "display_data"
    }
   ],
   "source": [
    "work_model_data = df.remote_ratio.value_counts(normalize=True) * 100\n",
    "print(pd.DataFrame({'Type': work_model_data.index, 'Percentage': work_model_data.values }))\n",
    "work_model_data.plot(kind='bar')\n",
    "\n",
    "plt.title('Work Model')\n",
    "plt.ylabel('Percentage')\n",
    "plt.xlabel(None)\n",
    "plt.xticks([0, 1, 2], ['On-site', 'Remote', 'Hybrid'], rotation = 0)\n",
    "plt.show()"
   ]
  },
  {
   "cell_type": "code",
   "execution_count": 22,
   "id": "5982690d",
   "metadata": {},
   "outputs": [
    {
     "name": "stdout",
     "output_type": "stream",
     "text": [
      "                        Job Title  Avg Salary\n",
      "0   Analytics Engineering Manager   399880.00\n",
      "1          Data Science Tech Lead   375000.00\n",
      "2  Managing Director Data Science   300000.00\n",
      "3              AWS Data Architect   258000.00\n",
      "4            Cloud Data Architect   250000.00\n",
      "5                    AI Architect   233656.00\n",
      "6        Director of Data Science   215447.63\n",
      "7    Data Infrastructure Engineer   201375.42\n",
      "8           Data Science Director   201000.00\n",
      "9        Head of Machine Learning   198103.00\n"
     ]
    },
    {
     "data": {
      "image/png": "[encoded data removed]",
      "text/plain": [
       "<Figure size 640x480 with 1 Axes>"
      ]
     },
     "metadata": {},
     "output_type": "display_data"
    }
   ],
   "source": [
    "salary_data = df.groupby('job_title')['salary_in_usd'].mean().round(2).nlargest(10)\n",
    "print(pd.DataFrame({'Job Title': salary_data.index, 'Avg Salary': salary_data.values }))\n",
    "salary_data.sort_values(ascending=True).plot(kind='barh')\n",
    "plt.title('10 Highest Paying Data Jobs')\n",
    "plt.xlabel('Avg Salary')\n",
    "plt.ylabel(None)\n",
    "plt.show()"
   ]
  },
  {
   "cell_type": "code",
   "execution_count": null,
   "id": "c1bb936c",
   "metadata": {},
   "outputs": [],
   "source": []
  }
 ],
 "metadata": {
  "kernelspec": {
   "display_name": "Python 3 (ipykernel)",
   "language": "python",
   "name": "python3"
  },
  "language_info": {
   "codemirror_mode": {
    "name": "ipython",
    "version": 3
   },
   "file_extension": ".py",
   "mimetype": "text/x-python",
   "name": "python",
   "nbconvert_exporter": "python",
   "pygments_lexer": "ipython3",
   "version": "3.11.5"
  }
 },
 "nbformat": 4,
 "nbformat_minor": 5
}
